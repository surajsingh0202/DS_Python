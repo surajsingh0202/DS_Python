{
 "cells": [
  {
   "cell_type": "code",
   "execution_count": 1,
   "id": "0b575927-d2a7-4262-b81f-4b7dd4ef4cab",
   "metadata": {},
   "outputs": [],
   "source": [
    "l = [1,345,6,\"Suraaj\",True,4+5j,453.2354]"
   ]
  },
  {
   "cell_type": "code",
   "execution_count": 2,
   "id": "36d2cc04-90c1-4b2c-b72f-814220ad675d",
   "metadata": {},
   "outputs": [
    {
     "data": {
      "text/plain": [
       "[1, 345, 6, 'Suraaj', True, (4+5j), 453.2354]"
      ]
     },
     "execution_count": 2,
     "metadata": {},
     "output_type": "execute_result"
    }
   ],
   "source": [
    "l"
   ]
  },
  {
   "cell_type": "code",
   "execution_count": 3,
   "id": "24512530-5b38-4936-b57b-690dd4955df3",
   "metadata": {},
   "outputs": [
    {
     "data": {
      "text/plain": [
       "list"
      ]
     },
     "execution_count": 3,
     "metadata": {},
     "output_type": "execute_result"
    }
   ],
   "source": [
    "type(l)"
   ]
  },
  {
   "cell_type": "code",
   "execution_count": 5,
   "id": "f205f280-a702-4ee1-8ead-a5066166ae1f",
   "metadata": {},
   "outputs": [
    {
     "data": {
      "text/plain": [
       "453.2354"
      ]
     },
     "execution_count": 5,
     "metadata": {},
     "output_type": "execute_result"
    }
   ],
   "source": [
    "l[6]"
   ]
  },
  {
   "cell_type": "code",
   "execution_count": 6,
   "id": "76d8d129-4ab0-4b7c-b63a-c9c82bd118e2",
   "metadata": {},
   "outputs": [
    {
     "data": {
      "text/plain": [
       "'Suraaj'"
      ]
     },
     "execution_count": 6,
     "metadata": {},
     "output_type": "execute_result"
    }
   ],
   "source": [
    "l[3]"
   ]
  },
  {
   "cell_type": "code",
   "execution_count": 7,
   "id": "5be3199a-ed3b-4574-8b5a-b3fda2d0f9b2",
   "metadata": {},
   "outputs": [
    {
     "data": {
      "text/plain": [
       "6"
      ]
     },
     "execution_count": 7,
     "metadata": {},
     "output_type": "execute_result"
    }
   ],
   "source": [
    "l[2]"
   ]
  },
  {
   "cell_type": "code",
   "execution_count": 8,
   "id": "563c948d-1d6c-4040-8f21-11bd3860812e",
   "metadata": {},
   "outputs": [
    {
     "data": {
      "text/plain": [
       "345"
      ]
     },
     "execution_count": 8,
     "metadata": {},
     "output_type": "execute_result"
    }
   ],
   "source": [
    "l[1]"
   ]
  },
  {
   "cell_type": "code",
   "execution_count": 9,
   "id": "54b1852a-6f12-4e10-a4b8-81bfd0ef2a1f",
   "metadata": {},
   "outputs": [
    {
     "data": {
      "text/plain": [
       "453.2354"
      ]
     },
     "execution_count": 9,
     "metadata": {},
     "output_type": "execute_result"
    }
   ],
   "source": [
    "l[-1]"
   ]
  },
  {
   "cell_type": "code",
   "execution_count": 10,
   "id": "7e30f71d-c389-48f5-984a-af2a8aaf2869",
   "metadata": {},
   "outputs": [
    {
     "data": {
      "text/plain": [
       "[1, 345, 6, 'Suraaj', True, (4+5j), 453.2354]"
      ]
     },
     "execution_count": 10,
     "metadata": {},
     "output_type": "execute_result"
    }
   ],
   "source": [
    "l"
   ]
  },
  {
   "cell_type": "code",
   "execution_count": 15,
   "id": "d45f4311-2df6-4824-aa0b-109457162193",
   "metadata": {},
   "outputs": [
    {
     "data": {
      "text/plain": [
       "[1, 345, 6]"
      ]
     },
     "execution_count": 15,
     "metadata": {},
     "output_type": "execute_result"
    }
   ],
   "source": [
    "l[0:3]"
   ]
  },
  {
   "cell_type": "code",
   "execution_count": 16,
   "id": "f8c211c3-4777-4a71-a77d-dcd2f069ffdd",
   "metadata": {},
   "outputs": [
    {
     "data": {
      "text/plain": [
       "453.2354"
      ]
     },
     "execution_count": 16,
     "metadata": {},
     "output_type": "execute_result"
    }
   ],
   "source": [
    "l[-1]"
   ]
  },
  {
   "cell_type": "code",
   "execution_count": 22,
   "id": "dac0d78f-244c-4aa2-ade2-d848c8a3785d",
   "metadata": {},
   "outputs": [
    {
     "data": {
      "text/plain": [
       "[453.2354, (4+5j), True, 'Suraaj', 6, 345, 1]"
      ]
     },
     "execution_count": 22,
     "metadata": {},
     "output_type": "execute_result"
    }
   ],
   "source": [
    "l[::-1]"
   ]
  },
  {
   "cell_type": "code",
   "execution_count": 2,
   "id": "d96a372c-9d19-465c-ada9-19620086f8f4",
   "metadata": {},
   "outputs": [
    {
     "ename": "NameError",
     "evalue": "name 'l' is not defined",
     "output_type": "error",
     "traceback": [
      "\u001b[0;31m---------------------------------------------------------------------------\u001b[0m",
      "\u001b[0;31mNameError\u001b[0m                                 Traceback (most recent call last)",
      "Cell \u001b[0;32mIn[2], line 1\u001b[0m\n\u001b[0;32m----> 1\u001b[0m \u001b[43ml\u001b[49m[:\u001b[38;5;241m8\u001b[39m]\n",
      "\u001b[0;31mNameError\u001b[0m: name 'l' is not defined"
     ]
    }
   ],
   "source": [
    "l[:8]"
   ]
  },
  {
   "cell_type": "code",
   "execution_count": 1,
   "id": "955b1c92-4aa4-4e22-96c5-8618f051ec94",
   "metadata": {},
   "outputs": [
    {
     "ename": "NameError",
     "evalue": "name 'l' is not defined",
     "output_type": "error",
     "traceback": [
      "\u001b[0;31m---------------------------------------------------------------------------\u001b[0m",
      "\u001b[0;31mNameError\u001b[0m                                 Traceback (most recent call last)",
      "Cell \u001b[0;32mIn[1], line 1\u001b[0m\n\u001b[0;32m----> 1\u001b[0m \u001b[43ml\u001b[49m\n",
      "\u001b[0;31mNameError\u001b[0m: name 'l' is not defined"
     ]
    }
   ],
   "source": [
    "l"
   ]
  },
  {
   "cell_type": "code",
   "execution_count": 5,
   "id": "a84ff920-5b0a-4626-9004-1c714831ddc9",
   "metadata": {},
   "outputs": [],
   "source": [
    "m = [2,3,4,556,'Suraaj',True,4+5j,45.365]"
   ]
  },
  {
   "cell_type": "code",
   "execution_count": 6,
   "id": "ef6f7360-f11a-4807-b6b5-17441dc85350",
   "metadata": {},
   "outputs": [
    {
     "data": {
      "text/plain": [
       "[2, 3, 4, 556, 'Suraaj', True, (4+5j), 45.365]"
      ]
     },
     "execution_count": 6,
     "metadata": {},
     "output_type": "execute_result"
    }
   ],
   "source": [
    "m"
   ]
  },
  {
   "cell_type": "code",
   "execution_count": 7,
   "id": "608f3b7c-b015-4f6b-a326-b1b52bad7aed",
   "metadata": {},
   "outputs": [
    {
     "data": {
      "text/plain": [
       "(4+5j)"
      ]
     },
     "execution_count": 7,
     "metadata": {},
     "output_type": "execute_result"
    }
   ],
   "source": [
    "m[6]"
   ]
  },
  {
   "cell_type": "code",
   "execution_count": 17,
   "id": "c38ab23d-7e4f-4cd6-930a-241ac17130ce",
   "metadata": {},
   "outputs": [
    {
     "data": {
      "text/plain": [
       "'raa'"
      ]
     },
     "execution_count": 17,
     "metadata": {},
     "output_type": "execute_result"
    }
   ],
   "source": [
    "m[4][2:5]"
   ]
  },
  {
   "cell_type": "code",
   "execution_count": 23,
   "id": "2292ea68-e6d6-4fd1-9ef7-0590421d8d06",
   "metadata": {},
   "outputs": [
    {
     "data": {
      "text/plain": [
       "'True'"
      ]
     },
     "execution_count": 23,
     "metadata": {},
     "output_type": "execute_result"
    }
   ],
   "source": [
    "str(m[5])"
   ]
  },
  {
   "cell_type": "code",
   "execution_count": 24,
   "id": "93a151a3-80c0-4858-af98-194f7a92d99e",
   "metadata": {},
   "outputs": [
    {
     "data": {
      "text/plain": [
       "'Tr'"
      ]
     },
     "execution_count": 24,
     "metadata": {},
     "output_type": "execute_result"
    }
   ],
   "source": [
    "str(m[5])[0:2]"
   ]
  },
  {
   "cell_type": "code",
   "execution_count": 26,
   "id": "77ac2fd6-32ab-4f52-b4fb-d9309f6f33ce",
   "metadata": {},
   "outputs": [
    {
     "data": {
      "text/plain": [
       "8"
      ]
     },
     "execution_count": 26,
     "metadata": {},
     "output_type": "execute_result"
    }
   ],
   "source": [
    "len(m)"
   ]
  },
  {
   "cell_type": "code",
   "execution_count": 27,
   "id": "283b6984-f72e-467c-a330-50d2f39e4cfe",
   "metadata": {},
   "outputs": [],
   "source": [
    "m.append(5)"
   ]
  },
  {
   "cell_type": "code",
   "execution_count": 28,
   "id": "bdd0a127-62c8-4362-a7d8-b7d5309204b3",
   "metadata": {},
   "outputs": [
    {
     "data": {
      "text/plain": [
       "[2, 3, 4, 556, 'Suraaj', True, (4+5j), 45.365, 5]"
      ]
     },
     "execution_count": 28,
     "metadata": {},
     "output_type": "execute_result"
    }
   ],
   "source": [
    "m"
   ]
  },
  {
   "cell_type": "code",
   "execution_count": 29,
   "id": "0f2168c0-39a2-4d1f-a583-6c4035679f54",
   "metadata": {},
   "outputs": [],
   "source": [
    "k = \"jaaruS\""
   ]
  },
  {
   "cell_type": "code",
   "execution_count": 30,
   "id": "1e911596-02e4-4162-b096-0757051b5292",
   "metadata": {},
   "outputs": [],
   "source": [
    "m.append(k)"
   ]
  },
  {
   "cell_type": "code",
   "execution_count": 31,
   "id": "f83c15e5-7f19-43fb-a0e2-4bf2a19f8850",
   "metadata": {},
   "outputs": [
    {
     "data": {
      "text/plain": [
       "[2, 3, 4, 556, 'Suraaj', True, (4+5j), 45.365, 5, 'jaaruS']"
      ]
     },
     "execution_count": 31,
     "metadata": {},
     "output_type": "execute_result"
    }
   ],
   "source": [
    "m"
   ]
  },
  {
   "cell_type": "code",
   "execution_count": 33,
   "id": "f1a3a6ad-9450-4f2d-b789-9d95dbca8508",
   "metadata": {},
   "outputs": [
    {
     "data": {
      "text/plain": [
       "'jaaruS'"
      ]
     },
     "execution_count": 33,
     "metadata": {},
     "output_type": "execute_result"
    }
   ],
   "source": [
    "m[-1]"
   ]
  },
  {
   "cell_type": "code",
   "execution_count": 37,
   "id": "fa6566a6-cb7f-4636-b046-4e39e35e35e5",
   "metadata": {},
   "outputs": [
    {
     "data": {
      "text/plain": [
       "'aa'"
      ]
     },
     "execution_count": 37,
     "metadata": {},
     "output_type": "execute_result"
    }
   ],
   "source": [
    "m[-1][1:3]"
   ]
  },
  {
   "cell_type": "code",
   "execution_count": 38,
   "id": "87ebe2e7-675d-45a9-ab03-37208f66d329",
   "metadata": {},
   "outputs": [
    {
     "data": {
      "text/plain": [
       "[2, 3, 4, 556, 'Suraaj', True, (4+5j), 45.365, 5, 'jaaruS']"
      ]
     },
     "execution_count": 38,
     "metadata": {},
     "output_type": "execute_result"
    }
   ],
   "source": [
    "m"
   ]
  },
  {
   "cell_type": "code",
   "execution_count": 43,
   "id": "05f64c8e-91dd-4746-9796-16b36f6c9c6d",
   "metadata": {},
   "outputs": [],
   "source": [
    "m.extend(k)"
   ]
  },
  {
   "cell_type": "code",
   "execution_count": 44,
   "id": "bde37dca-7471-4cd8-80c1-150578d8a4c0",
   "metadata": {},
   "outputs": [
    {
     "data": {
      "text/plain": [
       "[2,\n",
       " 3,\n",
       " 4,\n",
       " 556,\n",
       " 'Suraaj',\n",
       " True,\n",
       " (4+5j),\n",
       " 45.365,\n",
       " 5,\n",
       " 'jaaruS',\n",
       " 'S',\n",
       " 'u',\n",
       " 'r',\n",
       " 'S',\n",
       " 'u',\n",
       " 'r',\n",
       " '1',\n",
       " 'j',\n",
       " 'a',\n",
       " 'a',\n",
       " 'r',\n",
       " 'u',\n",
       " 'S']"
      ]
     },
     "execution_count": 44,
     "metadata": {},
     "output_type": "execute_result"
    }
   ],
   "source": [
    "m"
   ]
  },
  {
   "cell_type": "code",
   "execution_count": 45,
   "id": "60e926aa-40c8-419f-985f-0ebadaa6ea3a",
   "metadata": {},
   "outputs": [
    {
     "data": {
      "text/plain": [
       "'jaaruS'"
      ]
     },
     "execution_count": 45,
     "metadata": {},
     "output_type": "execute_result"
    }
   ],
   "source": [
    "k"
   ]
  },
  {
   "cell_type": "code",
   "execution_count": 49,
   "id": "e4325b7b-7f9b-4119-b840-e804d73a3231",
   "metadata": {},
   "outputs": [],
   "source": [
    "m.insert(1,\"ka\")"
   ]
  },
  {
   "cell_type": "code",
   "execution_count": 50,
   "id": "f906c2d3-5d9d-40d7-84cf-cddd065cb71c",
   "metadata": {},
   "outputs": [
    {
     "data": {
      "text/plain": [
       "[2,\n",
       " 'ka',\n",
       " 3,\n",
       " 4,\n",
       " 556,\n",
       " 'Suraaj',\n",
       " True,\n",
       " (4+5j),\n",
       " 45.365,\n",
       " 5,\n",
       " 'jaaruS',\n",
       " 'S',\n",
       " 'u',\n",
       " 'r',\n",
       " 'S',\n",
       " 'u',\n",
       " 'r',\n",
       " '1',\n",
       " 'j',\n",
       " 'a',\n",
       " 'a',\n",
       " 'r',\n",
       " 'u',\n",
       " 'S']"
      ]
     },
     "execution_count": 50,
     "metadata": {},
     "output_type": "execute_result"
    }
   ],
   "source": [
    "m"
   ]
  },
  {
   "cell_type": "code",
   "execution_count": 1,
   "id": "5b41f081-52d0-4de1-92ba-b50ce9416e26",
   "metadata": {},
   "outputs": [],
   "source": [
    "p = [2,3,6,7,4555,'Suraaaj',True,4+5j,35.68]"
   ]
  },
  {
   "cell_type": "code",
   "execution_count": 2,
   "id": "23a3f8f7-a9ac-4dc2-bf1f-aada5f3a18c3",
   "metadata": {},
   "outputs": [
    {
     "data": {
      "text/plain": [
       "[2, 3, 6, 7, 4555, 'Suraaaj', True, (4+5j), 35.68]"
      ]
     },
     "execution_count": 2,
     "metadata": {},
     "output_type": "execute_result"
    }
   ],
   "source": [
    "p"
   ]
  },
  {
   "cell_type": "code",
   "execution_count": 3,
   "id": "3d808aaf-c13a-4233-acf2-07b082b07faa",
   "metadata": {},
   "outputs": [
    {
     "data": {
      "text/plain": [
       "35.68"
      ]
     },
     "execution_count": 3,
     "metadata": {},
     "output_type": "execute_result"
    }
   ],
   "source": [
    "p.pop()"
   ]
  },
  {
   "cell_type": "code",
   "execution_count": 4,
   "id": "72974dd6-d2a7-4d02-b425-fa003a63216d",
   "metadata": {},
   "outputs": [
    {
     "data": {
      "text/plain": [
       "[2, 3, 6, 7, 4555, 'Suraaaj', True, (4+5j)]"
      ]
     },
     "execution_count": 4,
     "metadata": {},
     "output_type": "execute_result"
    }
   ],
   "source": [
    "p"
   ]
  },
  {
   "cell_type": "code",
   "execution_count": 5,
   "id": "a6b48e82-b08f-40c2-9a5e-73490b52d4b6",
   "metadata": {},
   "outputs": [
    {
     "data": {
      "text/plain": [
       "7"
      ]
     },
     "execution_count": 5,
     "metadata": {},
     "output_type": "execute_result"
    }
   ],
   "source": [
    "p.pop(3)"
   ]
  },
  {
   "cell_type": "code",
   "execution_count": 6,
   "id": "b9000ad4-c7b2-4d7d-917d-7335111841a6",
   "metadata": {},
   "outputs": [
    {
     "data": {
      "text/plain": [
       "[2, 3, 6, 4555, 'Suraaaj', True, (4+5j)]"
      ]
     },
     "execution_count": 6,
     "metadata": {},
     "output_type": "execute_result"
    }
   ],
   "source": [
    "p"
   ]
  },
  {
   "cell_type": "code",
   "execution_count": 7,
   "id": "df9b86d7-c057-4846-a81f-50875054e0d7",
   "metadata": {},
   "outputs": [],
   "source": [
    "p.remove(3)"
   ]
  },
  {
   "cell_type": "code",
   "execution_count": 8,
   "id": "fe1b3d8b-2cb4-4649-bbc3-86964655313e",
   "metadata": {},
   "outputs": [
    {
     "data": {
      "text/plain": [
       "[2, 6, 4555, 'Suraaaj', True, (4+5j)]"
      ]
     },
     "execution_count": 8,
     "metadata": {},
     "output_type": "execute_result"
    }
   ],
   "source": [
    "p"
   ]
  },
  {
   "cell_type": "code",
   "execution_count": 9,
   "id": "fda87920-d43e-4346-ac5e-cbeb0a5238e7",
   "metadata": {},
   "outputs": [],
   "source": [
    "w = [2,3,6]"
   ]
  },
  {
   "cell_type": "code",
   "execution_count": 12,
   "id": "1d0d83c5-85ef-41cd-b2b0-883c32652c9a",
   "metadata": {},
   "outputs": [],
   "source": [
    "p.append(w)"
   ]
  },
  {
   "cell_type": "code",
   "execution_count": 13,
   "id": "bb3316fe-3c4b-4151-82b9-2fcf88103e8c",
   "metadata": {},
   "outputs": [
    {
     "data": {
      "text/plain": [
       "[2, 6, 4555, 'Suraaaj', True, (4+5j), [2, 3, 6]]"
      ]
     },
     "execution_count": 13,
     "metadata": {},
     "output_type": "execute_result"
    }
   ],
   "source": [
    "p"
   ]
  },
  {
   "cell_type": "code",
   "execution_count": 14,
   "id": "0f500d2e-c9b3-4b6b-a509-ce2184aaeef0",
   "metadata": {},
   "outputs": [],
   "source": [
    "p[-1].remove(3)"
   ]
  },
  {
   "cell_type": "code",
   "execution_count": 15,
   "id": "e5d86169-b36e-4e51-a867-1cd55097cc18",
   "metadata": {},
   "outputs": [
    {
     "data": {
      "text/plain": [
       "[2, 6, 4555, 'Suraaaj', True, (4+5j), [2, 6]]"
      ]
     },
     "execution_count": 15,
     "metadata": {},
     "output_type": "execute_result"
    }
   ],
   "source": [
    "p"
   ]
  },
  {
   "cell_type": "code",
   "execution_count": 18,
   "id": "174b9b15-ce9a-49c9-b78b-d2f7980b2045",
   "metadata": {},
   "outputs": [],
   "source": [
    "p=p[::-1]"
   ]
  },
  {
   "cell_type": "code",
   "execution_count": 19,
   "id": "07360a64-ae71-477a-944e-f8fe70be223b",
   "metadata": {},
   "outputs": [
    {
     "data": {
      "text/plain": [
       "[[2, 6], (4+5j), True, 'Suraaaj', 4555, 6, 2]"
      ]
     },
     "execution_count": 19,
     "metadata": {},
     "output_type": "execute_result"
    }
   ],
   "source": [
    "p"
   ]
  },
  {
   "cell_type": "code",
   "execution_count": 22,
   "id": "76895401-0f3c-40f5-a6ab-75313206fb9b",
   "metadata": {},
   "outputs": [],
   "source": [
    "p.reverse()"
   ]
  },
  {
   "cell_type": "code",
   "execution_count": 23,
   "id": "f9b0a8d1-385b-4441-8e99-dab7b8a93034",
   "metadata": {},
   "outputs": [
    {
     "data": {
      "text/plain": [
       "[2, 6, 4555, 'Suraaaj', True, (4+5j), [2, 6]]"
      ]
     },
     "execution_count": 23,
     "metadata": {},
     "output_type": "execute_result"
    }
   ],
   "source": [
    "p"
   ]
  },
  {
   "cell_type": "code",
   "execution_count": 24,
   "id": "c282586d-1bb5-49d9-acb0-475288af83e4",
   "metadata": {},
   "outputs": [],
   "source": [
    "p2 = [2,3,5,8,7,60,6,7,1,6,8,4,12]"
   ]
  },
  {
   "cell_type": "code",
   "execution_count": 25,
   "id": "29acddda-f2a3-468a-9647-cbd42afa57ec",
   "metadata": {},
   "outputs": [
    {
     "data": {
      "text/plain": [
       "[2, 3, 5, 8, 7, 60, 6, 7, 1, 6, 8, 4, 12]"
      ]
     },
     "execution_count": 25,
     "metadata": {},
     "output_type": "execute_result"
    }
   ],
   "source": [
    "p2"
   ]
  },
  {
   "cell_type": "code",
   "execution_count": 26,
   "id": "f5637e6e-6678-468a-b996-9d5f8774cedf",
   "metadata": {},
   "outputs": [],
   "source": [
    "p2.sort()"
   ]
  },
  {
   "cell_type": "code",
   "execution_count": 27,
   "id": "4bbca739-a15a-496a-8261-9f5d1ad705ac",
   "metadata": {},
   "outputs": [
    {
     "data": {
      "text/plain": [
       "[1, 2, 3, 4, 5, 6, 6, 7, 7, 8, 8, 12, 60]"
      ]
     },
     "execution_count": 27,
     "metadata": {},
     "output_type": "execute_result"
    }
   ],
   "source": [
    "p2"
   ]
  },
  {
   "cell_type": "code",
   "execution_count": 28,
   "id": "772f44bf-13fb-47c6-8c44-65be5ce04c9e",
   "metadata": {},
   "outputs": [],
   "source": [
    "p3=[\"Suraaj\",\"Singh\",\"KA\"]"
   ]
  },
  {
   "cell_type": "code",
   "execution_count": 29,
   "id": "6a54a1cb-48b1-4a0a-9737-b81f087ae4f8",
   "metadata": {},
   "outputs": [],
   "source": [
    "p3.sort()"
   ]
  },
  {
   "cell_type": "code",
   "execution_count": 30,
   "id": "0fe6e1ed-9b46-47c7-b61f-314a7e5ea328",
   "metadata": {},
   "outputs": [
    {
     "data": {
      "text/plain": [
       "['KA', 'Singh', 'Suraaj']"
      ]
     },
     "execution_count": 30,
     "metadata": {},
     "output_type": "execute_result"
    }
   ],
   "source": [
    "p3"
   ]
  },
  {
   "cell_type": "code",
   "execution_count": 34,
   "id": "3945b4e0-a5d8-4875-b1a1-1fac976be14b",
   "metadata": {},
   "outputs": [
    {
     "data": {
      "text/plain": [
       "1"
      ]
     },
     "execution_count": 34,
     "metadata": {},
     "output_type": "execute_result"
    }
   ],
   "source": [
    "p3.index(\"Singh\")"
   ]
  },
  {
   "cell_type": "code",
   "execution_count": 36,
   "id": "8ab11abd-18e8-4ddc-8239-6e11cd63c17c",
   "metadata": {},
   "outputs": [
    {
     "data": {
      "text/plain": [
       "1"
      ]
     },
     "execution_count": 36,
     "metadata": {},
     "output_type": "execute_result"
    }
   ],
   "source": [
    "p3.count(\"Singh\")"
   ]
  },
  {
   "cell_type": "code",
   "execution_count": 37,
   "id": "0554dc09-3442-43a1-aa9e-f105cac22b05",
   "metadata": {},
   "outputs": [],
   "source": [
    "p4 = [3,6,8]"
   ]
  },
  {
   "cell_type": "code",
   "execution_count": 38,
   "id": "48a80484-df18-4258-b971-487f53064ec1",
   "metadata": {},
   "outputs": [
    {
     "data": {
      "text/plain": [
       "[3, 6, 8]"
      ]
     },
     "execution_count": 38,
     "metadata": {},
     "output_type": "execute_result"
    }
   ],
   "source": [
    "p4"
   ]
  },
  {
   "cell_type": "code",
   "execution_count": 39,
   "id": "e0126e8b-dd1b-4cd1-8a78-a0947a0ce053",
   "metadata": {},
   "outputs": [],
   "source": [
    "p4[0] = 30"
   ]
  },
  {
   "cell_type": "code",
   "execution_count": 40,
   "id": "c435d1e8-f6ef-40e9-b8ec-4099962a5284",
   "metadata": {},
   "outputs": [
    {
     "data": {
      "text/plain": [
       "[30, 6, 8]"
      ]
     },
     "execution_count": 40,
     "metadata": {},
     "output_type": "execute_result"
    }
   ],
   "source": [
    "p4"
   ]
  },
  {
   "cell_type": "code",
   "execution_count": 41,
   "id": "9cb73846-e73d-42f4-9968-fa96081cf1a7",
   "metadata": {},
   "outputs": [],
   "source": [
    "p5 = \"Suraaj\""
   ]
  },
  {
   "cell_type": "code",
   "execution_count": 46,
   "id": "aa7a8027-a16d-400b-8313-4e5f0f33b1f8",
   "metadata": {},
   "outputs": [],
   "source": [
    "p5=p5.replace('S' , 'K')"
   ]
  },
  {
   "cell_type": "code",
   "execution_count": 45,
   "id": "c0dd9684-8d35-42bb-acec-0642f6953565",
   "metadata": {},
   "outputs": [
    {
     "data": {
      "text/plain": [
       "'Suraaj'"
      ]
     },
     "execution_count": 45,
     "metadata": {},
     "output_type": "execute_result"
    }
   ],
   "source": [
    "p5"
   ]
  },
  {
   "cell_type": "code",
   "execution_count": 2,
   "id": "38e016b0-dda7-4451-9c40-9f63ccf1fcb4",
   "metadata": {},
   "outputs": [],
   "source": [
    "t = (2,6,8,6549,True,\"Suraaaj\",4+6j,[3,6,9,4])"
   ]
  },
  {
   "cell_type": "code",
   "execution_count": 3,
   "id": "1f4ab6c7-6d0e-4393-8b15-dabab6791d61",
   "metadata": {},
   "outputs": [
    {
     "data": {
      "text/plain": [
       "(2, 6, 8, 6549, True, 'Suraaaj', (4+6j), [3, 6, 9, 4])"
      ]
     },
     "execution_count": 3,
     "metadata": {},
     "output_type": "execute_result"
    }
   ],
   "source": [
    "t"
   ]
  },
  {
   "cell_type": "code",
   "execution_count": 5,
   "id": "ed7d47a3-7b03-4dff-8ff7-43773613c0c6",
   "metadata": {},
   "outputs": [
    {
     "data": {
      "text/plain": [
       "(2, 6, 8, 6549, True, 'Suraaaj', (4+6j), [3, 6, 9, 4])"
      ]
     },
     "execution_count": 5,
     "metadata": {},
     "output_type": "execute_result"
    }
   ],
   "source": [
    "type\n",
    "(t)"
   ]
  },
  {
   "cell_type": "code",
   "execution_count": 6,
   "id": "03fe2057-bec6-4518-a547-d67f6d714bb5",
   "metadata": {},
   "outputs": [
    {
     "data": {
      "text/plain": [
       "8"
      ]
     },
     "execution_count": 6,
     "metadata": {},
     "output_type": "execute_result"
    }
   ],
   "source": [
    "len(t)"
   ]
  },
  {
   "cell_type": "code",
   "execution_count": 8,
   "id": "c67e11bc-09df-4920-a2bf-6fa1c1c63c5d",
   "metadata": {},
   "outputs": [
    {
     "data": {
      "text/plain": [
       "2"
      ]
     },
     "execution_count": 8,
     "metadata": {},
     "output_type": "execute_result"
    }
   ],
   "source": [
    "t[0]"
   ]
  },
  {
   "cell_type": "code",
   "execution_count": 9,
   "id": "7ab4fcb6-950c-4d00-bfb7-6a517e97c7bd",
   "metadata": {},
   "outputs": [
    {
     "data": {
      "text/plain": [
       "[3, 6, 9, 4]"
      ]
     },
     "execution_count": 9,
     "metadata": {},
     "output_type": "execute_result"
    }
   ],
   "source": [
    "t[-1]"
   ]
  },
  {
   "cell_type": "code",
   "execution_count": 14,
   "id": "e841b295-30d2-4fc3-8513-2733b77551e4",
   "metadata": {},
   "outputs": [],
   "source": [
    "t2 = ['Suraaj','Singh','KA']"
   ]
  },
  {
   "cell_type": "code",
   "execution_count": 15,
   "id": "fd675f4a-2d11-4ede-8a4d-a931eb5f4d03",
   "metadata": {},
   "outputs": [
    {
     "data": {
      "text/plain": [
       "['Suraaj', 'Singh', 'KA']"
      ]
     },
     "execution_count": 15,
     "metadata": {},
     "output_type": "execute_result"
    }
   ],
   "source": [
    "t2"
   ]
  },
  {
   "cell_type": "code",
   "execution_count": 17,
   "id": "f7a9d525-238c-44b9-b6f1-94af864bdba0",
   "metadata": {},
   "outputs": [],
   "source": [
    "t2[0] = 3654"
   ]
  },
  {
   "cell_type": "code",
   "execution_count": 18,
   "id": "f1b6b237-6975-4112-b1ad-976526d9e8ac",
   "metadata": {},
   "outputs": [
    {
     "data": {
      "text/plain": [
       "[3654, 'Singh', 'KA']"
      ]
     },
     "execution_count": 18,
     "metadata": {},
     "output_type": "execute_result"
    }
   ],
   "source": [
    "t2"
   ]
  },
  {
   "cell_type": "code",
   "execution_count": 19,
   "id": "68bd0edd-4c40-467b-953b-1043a627fde0",
   "metadata": {},
   "outputs": [
    {
     "data": {
      "text/plain": [
       "(2, 6, 8, 6549, True, 'Suraaaj', (4+6j), [3, 6, 9, 4])"
      ]
     },
     "execution_count": 19,
     "metadata": {},
     "output_type": "execute_result"
    }
   ],
   "source": [
    "t"
   ]
  },
  {
   "cell_type": "code",
   "execution_count": 20,
   "id": "35f9fa5a-266b-4ad8-b2c3-4823c7aa8ab0",
   "metadata": {},
   "outputs": [
    {
     "ename": "TypeError",
     "evalue": "'tuple' object does not support item assignment",
     "output_type": "error",
     "traceback": [
      "\u001b[0;31m---------------------------------------------------------------------------\u001b[0m",
      "\u001b[0;31mTypeError\u001b[0m                                 Traceback (most recent call last)",
      "Cell \u001b[0;32mIn[20], line 1\u001b[0m\n\u001b[0;32m----> 1\u001b[0m \u001b[43mt\u001b[49m\u001b[43m[\u001b[49m\u001b[38;5;241;43m0\u001b[39;49m\u001b[43m]\u001b[49m \u001b[38;5;241m=\u001b[39m \u001b[38;5;124m'\u001b[39m\u001b[38;5;124mSingh\u001b[39m\u001b[38;5;124m'\u001b[39m\n",
      "\u001b[0;31mTypeError\u001b[0m: 'tuple' object does not support item assignment"
     ]
    }
   ],
   "source": [
    "t[0] = 'Singh'"
   ]
  },
  {
   "cell_type": "code",
   "execution_count": 21,
   "id": "3baf7edd-9311-4927-8e3c-75b2e740d89b",
   "metadata": {},
   "outputs": [
    {
     "data": {
      "text/plain": [
       "([3, 6, 9, 4], (4+6j), 'Suraaaj', True, 6549, 8, 6, 2)"
      ]
     },
     "execution_count": 21,
     "metadata": {},
     "output_type": "execute_result"
    }
   ],
   "source": [
    "t[::-1]"
   ]
  },
  {
   "cell_type": "code",
   "execution_count": 22,
   "id": "b8d20946-174f-4391-9751-17aada61f5db",
   "metadata": {},
   "outputs": [
    {
     "data": {
      "text/plain": [
       "(2, 6, 8, 6549, True, 'Suraaaj', (4+6j), [3, 6, 9, 4])"
      ]
     },
     "execution_count": 22,
     "metadata": {},
     "output_type": "execute_result"
    }
   ],
   "source": [
    "t"
   ]
  },
  {
   "cell_type": "code",
   "execution_count": 26,
   "id": "b1ee37eb-7c82-4645-bb9a-ac3f75f729f6",
   "metadata": {},
   "outputs": [
    {
     "data": {
      "text/plain": [
       "[3, 6, 9, 4]"
      ]
     },
     "execution_count": 26,
     "metadata": {},
     "output_type": "execute_result"
    }
   ],
   "source": [
    "t[-1]"
   ]
  },
  {
   "cell_type": "code",
   "execution_count": 27,
   "id": "477c59d0-1e19-49b5-a39d-328743873271",
   "metadata": {},
   "outputs": [
    {
     "data": {
      "text/plain": [
       "(2, 6, 8, 6549, True, 'Suraaaj', (4+6j), [3, 6, 9, 4])"
      ]
     },
     "execution_count": 27,
     "metadata": {},
     "output_type": "execute_result"
    }
   ],
   "source": [
    "t"
   ]
  },
  {
   "cell_type": "code",
   "execution_count": 31,
   "id": "0fc6c4bf-2c18-489c-822a-4d852d598e4d",
   "metadata": {},
   "outputs": [
    {
     "data": {
      "text/plain": [
       "1"
      ]
     },
     "execution_count": 31,
     "metadata": {},
     "output_type": "execute_result"
    }
   ],
   "source": [
    "t.count(6)"
   ]
  },
  {
   "cell_type": "code",
   "execution_count": 32,
   "id": "e1a1ade3-5338-4f37-8287-347d836959d0",
   "metadata": {},
   "outputs": [
    {
     "data": {
      "text/plain": [
       "4"
      ]
     },
     "execution_count": 32,
     "metadata": {},
     "output_type": "execute_result"
    }
   ],
   "source": [
    "t.index(True)"
   ]
  },
  {
   "cell_type": "code",
   "execution_count": 33,
   "id": "e93ad15e-a287-4f27-8ec0-3a089b2a0208",
   "metadata": {},
   "outputs": [],
   "source": [
    "K1 = {}"
   ]
  },
  {
   "cell_type": "code",
   "execution_count": 34,
   "id": "5be7611b-ed84-46c1-8460-42670aef6a9c",
   "metadata": {},
   "outputs": [
    {
     "data": {
      "text/plain": [
       "dict"
      ]
     },
     "execution_count": 34,
     "metadata": {},
     "output_type": "execute_result"
    }
   ],
   "source": [
    "type(K1)"
   ]
  },
  {
   "cell_type": "code",
   "execution_count": 35,
   "id": "f83adb71-7327-415b-912b-46e3630ea29c",
   "metadata": {},
   "outputs": [],
   "source": [
    "K2 = {1,6,8,7,9,4,5,65}"
   ]
  },
  {
   "cell_type": "code",
   "execution_count": 36,
   "id": "02b21cc4-8ee0-4749-9042-b72999c6688f",
   "metadata": {},
   "outputs": [
    {
     "data": {
      "text/plain": [
       "{1, 4, 5, 6, 7, 8, 9, 65}"
      ]
     },
     "execution_count": 36,
     "metadata": {},
     "output_type": "execute_result"
    }
   ],
   "source": [
    "K2"
   ]
  },
  {
   "cell_type": "code",
   "execution_count": 37,
   "id": "e4fbbf9c-5158-48c3-9c7a-bd6808c69b80",
   "metadata": {},
   "outputs": [
    {
     "data": {
      "text/plain": [
       "set"
      ]
     },
     "execution_count": 37,
     "metadata": {},
     "output_type": "execute_result"
    }
   ],
   "source": [
    "type(K2)"
   ]
  },
  {
   "cell_type": "code",
   "execution_count": 3,
   "id": "8596aa02-f029-46a7-bc11-9019188ed2c8",
   "metadata": {},
   "outputs": [
    {
     "ename": "SyntaxError",
     "evalue": "invalid syntax. Perhaps you forgot a comma? (2717812750.py, line 1)",
     "output_type": "error",
     "traceback": [
      "\u001b[0;36m  Cell \u001b[0;32mIn[3], line 1\u001b[0;36m\u001b[0m\n\u001b[0;31m    K4 = {2,6,8,7,65,5+6j,'Suraaj'65.23,}\u001b[0m\n\u001b[0m                          ^\u001b[0m\n\u001b[0;31mSyntaxError\u001b[0m\u001b[0;31m:\u001b[0m invalid syntax. Perhaps you forgot a comma?\n"
     ]
    }
   ],
   "source": [
    "K4 = {2,6,8,7,65,5+6j,'Suraaj'65.23,}"
   ]
  },
  {
   "cell_type": "code",
   "execution_count": 2,
   "id": "60d814ab-734b-4d59-9abe-72a21b8640fa",
   "metadata": {},
   "outputs": [
    {
     "ename": "NameError",
     "evalue": "name 'k4' is not defined",
     "output_type": "error",
     "traceback": [
      "\u001b[0;31m---------------------------------------------------------------------------\u001b[0m",
      "\u001b[0;31mNameError\u001b[0m                                 Traceback (most recent call last)",
      "Cell \u001b[0;32mIn[2], line 1\u001b[0m\n\u001b[0;32m----> 1\u001b[0m \u001b[43mk4\u001b[49m\n",
      "\u001b[0;31mNameError\u001b[0m: name 'k4' is not defined"
     ]
    }
   ],
   "source": [
    "k4"
   ]
  },
  {
   "cell_type": "code",
   "execution_count": 6,
   "id": "09f9bac9-1863-43f1-bf78-79ed8ddbda54",
   "metadata": {},
   "outputs": [],
   "source": [
    "k5 = {3,6,75,65,6,5+2j,'Suraaaj',63.54,(3,6,7)}"
   ]
  },
  {
   "cell_type": "code",
   "execution_count": 7,
   "id": "52864e9f-0d9a-4677-b118-e12cbc319a0a",
   "metadata": {},
   "outputs": [
    {
     "data": {
      "text/plain": [
       "{(3, 6, 7), (5+2j), 3, 6, 63.54, 65, 75, 'Suraaaj'}"
      ]
     },
     "execution_count": 7,
     "metadata": {},
     "output_type": "execute_result"
    }
   ],
   "source": [
    "k5"
   ]
  },
  {
   "cell_type": "code",
   "execution_count": 8,
   "id": "45e1e11d-17e7-42e8-826b-076981bde10e",
   "metadata": {},
   "outputs": [],
   "source": [
    "k6 = {1,2,3,4,5,6,4,5,6,9,8,712,6,5,8,}"
   ]
  },
  {
   "cell_type": "code",
   "execution_count": 9,
   "id": "5340b898-90c2-4af5-9804-534470a58b8a",
   "metadata": {},
   "outputs": [
    {
     "data": {
      "text/plain": [
       "{1, 2, 3, 4, 5, 6, 8, 9, 712}"
      ]
     },
     "execution_count": 9,
     "metadata": {},
     "output_type": "execute_result"
    }
   ],
   "source": [
    "k6"
   ]
  },
  {
   "cell_type": "code",
   "execution_count": 10,
   "id": "61cc1b5e-c4ca-4a99-9956-c9f8b89d38b5",
   "metadata": {},
   "outputs": [
    {
     "data": {
      "text/plain": [
       "{(3, 6, 7), (5+2j), 3, 6, 63.54, 65, 75, 'Suraaaj'}"
      ]
     },
     "execution_count": 10,
     "metadata": {},
     "output_type": "execute_result"
    }
   ],
   "source": [
    "k5"
   ]
  },
  {
   "cell_type": "code",
   "execution_count": 12,
   "id": "f6dd6767-24f6-4ddc-820c-04e48d53e756",
   "metadata": {},
   "outputs": [],
   "source": [
    "p2 = [1,2,3,4,5,6,7,8,9,8,7,4,5,6,1,2,'Suraaj','suraaj']"
   ]
  },
  {
   "cell_type": "code",
   "execution_count": 13,
   "id": "fbfe3504-9b16-4d33-8394-70ce56c8a595",
   "metadata": {},
   "outputs": [
    {
     "data": {
      "text/plain": [
       "[1, 2, 3, 4, 5, 6, 7, 8, 9, 8, 7, 4, 5, 6, 1, 2, 'Suraaj', 'suraaj']"
      ]
     },
     "execution_count": 13,
     "metadata": {},
     "output_type": "execute_result"
    }
   ],
   "source": [
    "p2"
   ]
  },
  {
   "cell_type": "code",
   "execution_count": 17,
   "id": "cf6106c8-70c6-4617-a3a3-759c91329e82",
   "metadata": {},
   "outputs": [],
   "source": [
    "p2 = set(p2)"
   ]
  },
  {
   "cell_type": "code",
   "execution_count": 19,
   "id": "871cfccf-58be-4c49-8a76-6dcc941d6338",
   "metadata": {},
   "outputs": [
    {
     "data": {
      "text/plain": [
       "{1, 2, 3, 4, 5, 6, 7, 8, 9, 'Suraaj', 'suraaj'}"
      ]
     },
     "execution_count": 19,
     "metadata": {},
     "output_type": "execute_result"
    }
   ],
   "source": [
    "p2"
   ]
  },
  {
   "cell_type": "code",
   "execution_count": 20,
   "id": "ce68f2c2-4b4e-4b45-9fae-368bbb62b8b6",
   "metadata": {},
   "outputs": [],
   "source": [
    "k7 = {65,2,3,4,5878,65456,'abc'}"
   ]
  },
  {
   "cell_type": "code",
   "execution_count": 21,
   "id": "75f6b395-566f-4e04-921c-1811cc5c1af0",
   "metadata": {},
   "outputs": [
    {
     "data": {
      "text/plain": [
       "{2, 3, 4, 5878, 65, 65456, 'abc'}"
      ]
     },
     "execution_count": 21,
     "metadata": {},
     "output_type": "execute_result"
    }
   ],
   "source": [
    "k7"
   ]
  },
  {
   "cell_type": "code",
   "execution_count": 22,
   "id": "e1f89649-83d9-4eab-a0ef-cd7538da92f6",
   "metadata": {},
   "outputs": [
    {
     "data": {
      "text/plain": [
       "set"
      ]
     },
     "execution_count": 22,
     "metadata": {},
     "output_type": "execute_result"
    }
   ],
   "source": [
    "type(k7)"
   ]
  },
  {
   "cell_type": "code",
   "execution_count": 23,
   "id": "a0a19c5a-ca46-46e0-9614-b70f6494f9d9",
   "metadata": {},
   "outputs": [],
   "source": [
    "p2.add(888)"
   ]
  },
  {
   "cell_type": "code",
   "execution_count": 24,
   "id": "03d46de2-a42d-4626-bbed-5038c0806c7b",
   "metadata": {},
   "outputs": [
    {
     "data": {
      "text/plain": [
       "{1, 2, 3, 4, 5, 6, 7, 8, 888, 9, 'Suraaj', 'suraaj'}"
      ]
     },
     "execution_count": 24,
     "metadata": {},
     "output_type": "execute_result"
    }
   ],
   "source": [
    "p2"
   ]
  },
  {
   "cell_type": "code",
   "execution_count": 25,
   "id": "60564bad-a43a-406a-9c41-a8b32a5dbc9a",
   "metadata": {},
   "outputs": [],
   "source": [
    "p2.remove(2)"
   ]
  },
  {
   "cell_type": "code",
   "execution_count": 26,
   "id": "4ef1a169-ea3d-4b02-b6da-2b3cfe265168",
   "metadata": {},
   "outputs": [
    {
     "data": {
      "text/plain": [
       "{1, 3, 4, 5, 6, 7, 8, 888, 9, 'Suraaj', 'suraaj'}"
      ]
     },
     "execution_count": 26,
     "metadata": {},
     "output_type": "execute_result"
    }
   ],
   "source": [
    "p2"
   ]
  },
  {
   "cell_type": "code",
   "execution_count": null,
   "id": "7dd49ca7-8dbc-4de6-860d-65ef45f227f8",
   "metadata": {},
   "outputs": [],
   "source": []
  }
 ],
 "metadata": {
  "kernelspec": {
   "display_name": "Python 3 (ipykernel)",
   "language": "python",
   "name": "python3"
  },
  "language_info": {
   "codemirror_mode": {
    "name": "ipython",
    "version": 3
   },
   "file_extension": ".py",
   "mimetype": "text/x-python",
   "name": "python",
   "nbconvert_exporter": "python",
   "pygments_lexer": "ipython3",
   "version": "3.10.8"
  }
 },
 "nbformat": 4,
 "nbformat_minor": 5
}
